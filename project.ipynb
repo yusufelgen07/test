{
 "cells": [
  {
   "cell_type": "code",
   "execution_count": 2,
   "metadata": {},
   "outputs": [],
   "source": [
    "import pandas as pd\n",
    "import numpy as np\n",
    "import matplotlib.pyplot as plot\n",
    "from xgboost import XGBClassifier\n"
   ]
  },
  {
   "cell_type": "code",
   "execution_count": 3,
   "metadata": {},
   "outputs": [],
   "source": [
    "pd.set_option('display.max_columns', None)\n",
    "pd.set_option('display.max_rows', None)\n"
   ]
  },
  {
   "cell_type": "code",
   "execution_count": 4,
   "metadata": {},
   "outputs": [
    {
     "name": "stderr",
     "output_type": "stream",
     "text": [
      "C:\\Users\\FAMILY\\AppData\\Local\\Temp\\ipykernel_31676\\2436019669.py:1: DtypeWarning: Columns (26) have mixed types. Specify dtype option on import or set low_memory=False.\n",
      "  df = pd.read_csv('train.csv')\n"
     ]
    }
   ],
   "source": [
    "df = pd.read_csv('train.csv')"
   ]
  },
  {
   "cell_type": "code",
   "execution_count": 5,
   "metadata": {},
   "outputs": [
    {
     "name": "stdout",
     "output_type": "stream",
     "text": [
      "<class 'pandas.core.frame.DataFrame'>\n",
      "RangeIndex: 100000 entries, 0 to 99999\n",
      "Data columns (total 28 columns):\n",
      " #   Column                    Non-Null Count   Dtype  \n",
      "---  ------                    --------------   -----  \n",
      " 0   ID                        100000 non-null  object \n",
      " 1   Customer_ID               100000 non-null  object \n",
      " 2   Month                     100000 non-null  object \n",
      " 3   Name                      90015 non-null   object \n",
      " 4   Age                       100000 non-null  object \n",
      " 5   SSN                       100000 non-null  object \n",
      " 6   Occupation                100000 non-null  object \n",
      " 7   Annual_Income             100000 non-null  object \n",
      " 8   Monthly_Inhand_Salary     84998 non-null   float64\n",
      " 9   Num_Bank_Accounts         100000 non-null  int64  \n",
      " 10  Num_Credit_Card           100000 non-null  int64  \n",
      " 11  Interest_Rate             100000 non-null  int64  \n",
      " 12  Num_of_Loan               100000 non-null  object \n",
      " 13  Type_of_Loan              88592 non-null   object \n",
      " 14  Delay_from_due_date       100000 non-null  int64  \n",
      " 15  Num_of_Delayed_Payment    92998 non-null   object \n",
      " 16  Changed_Credit_Limit      100000 non-null  object \n",
      " 17  Num_Credit_Inquiries      98035 non-null   float64\n",
      " 18  Credit_Mix                100000 non-null  object \n",
      " 19  Outstanding_Debt          100000 non-null  object \n",
      " 20  Credit_Utilization_Ratio  100000 non-null  float64\n",
      " 21  Credit_History_Age        90970 non-null   object \n",
      " 22  Payment_of_Min_Amount     100000 non-null  object \n",
      " 23  Total_EMI_per_month       100000 non-null  float64\n",
      " 24  Amount_invested_monthly   95521 non-null   object \n",
      " 25  Payment_Behaviour         100000 non-null  object \n",
      " 26  Monthly_Balance           98800 non-null   object \n",
      " 27  Credit_Score              100000 non-null  object \n",
      "dtypes: float64(4), int64(4), object(20)\n",
      "memory usage: 21.4+ MB\n"
     ]
    }
   ],
   "source": [
    "df.info()\n"
   ]
  },
  {
   "cell_type": "code",
   "execution_count": 6,
   "metadata": {},
   "outputs": [
    {
     "data": {
      "text/html": [
       "<div>\n",
       "<style scoped>\n",
       "    .dataframe tbody tr th:only-of-type {\n",
       "        vertical-align: middle;\n",
       "    }\n",
       "\n",
       "    .dataframe tbody tr th {\n",
       "        vertical-align: top;\n",
       "    }\n",
       "\n",
       "    .dataframe thead th {\n",
       "        text-align: right;\n",
       "    }\n",
       "</style>\n",
       "<table border=\"1\" class=\"dataframe\">\n",
       "  <thead>\n",
       "    <tr style=\"text-align: right;\">\n",
       "      <th></th>\n",
       "      <th>ID</th>\n",
       "      <th>Customer_ID</th>\n",
       "      <th>Month</th>\n",
       "      <th>Name</th>\n",
       "      <th>Age</th>\n",
       "      <th>SSN</th>\n",
       "      <th>Occupation</th>\n",
       "      <th>Annual_Income</th>\n",
       "      <th>Monthly_Inhand_Salary</th>\n",
       "      <th>Num_Bank_Accounts</th>\n",
       "      <th>Num_Credit_Card</th>\n",
       "      <th>Interest_Rate</th>\n",
       "      <th>Num_of_Loan</th>\n",
       "      <th>Type_of_Loan</th>\n",
       "      <th>Delay_from_due_date</th>\n",
       "      <th>Num_of_Delayed_Payment</th>\n",
       "      <th>Changed_Credit_Limit</th>\n",
       "      <th>Num_Credit_Inquiries</th>\n",
       "      <th>Credit_Mix</th>\n",
       "      <th>Outstanding_Debt</th>\n",
       "      <th>Credit_Utilization_Ratio</th>\n",
       "      <th>Credit_History_Age</th>\n",
       "      <th>Payment_of_Min_Amount</th>\n",
       "      <th>Total_EMI_per_month</th>\n",
       "      <th>Amount_invested_monthly</th>\n",
       "      <th>Payment_Behaviour</th>\n",
       "      <th>Monthly_Balance</th>\n",
       "      <th>Credit_Score</th>\n",
       "    </tr>\n",
       "  </thead>\n",
       "  <tbody>\n",
       "    <tr>\n",
       "      <th>0</th>\n",
       "      <td>0x1602</td>\n",
       "      <td>CUS_0xd40</td>\n",
       "      <td>January</td>\n",
       "      <td>Aaron Maashoh</td>\n",
       "      <td>23</td>\n",
       "      <td>821-00-0265</td>\n",
       "      <td>Scientist</td>\n",
       "      <td>19114.12</td>\n",
       "      <td>1824.843333</td>\n",
       "      <td>3</td>\n",
       "      <td>4</td>\n",
       "      <td>3</td>\n",
       "      <td>4</td>\n",
       "      <td>Auto Loan, Credit-Builder Loan, Personal Loan,...</td>\n",
       "      <td>3</td>\n",
       "      <td>7</td>\n",
       "      <td>11.27</td>\n",
       "      <td>4.0</td>\n",
       "      <td>_</td>\n",
       "      <td>809.98</td>\n",
       "      <td>26.822620</td>\n",
       "      <td>22 Years and 1 Months</td>\n",
       "      <td>No</td>\n",
       "      <td>49.574949</td>\n",
       "      <td>80.41529543900253</td>\n",
       "      <td>High_spent_Small_value_payments</td>\n",
       "      <td>312.49408867943663</td>\n",
       "      <td>Good</td>\n",
       "    </tr>\n",
       "    <tr>\n",
       "      <th>1</th>\n",
       "      <td>0x1603</td>\n",
       "      <td>CUS_0xd40</td>\n",
       "      <td>February</td>\n",
       "      <td>Aaron Maashoh</td>\n",
       "      <td>23</td>\n",
       "      <td>821-00-0265</td>\n",
       "      <td>Scientist</td>\n",
       "      <td>19114.12</td>\n",
       "      <td>NaN</td>\n",
       "      <td>3</td>\n",
       "      <td>4</td>\n",
       "      <td>3</td>\n",
       "      <td>4</td>\n",
       "      <td>Auto Loan, Credit-Builder Loan, Personal Loan,...</td>\n",
       "      <td>-1</td>\n",
       "      <td>NaN</td>\n",
       "      <td>11.27</td>\n",
       "      <td>4.0</td>\n",
       "      <td>Good</td>\n",
       "      <td>809.98</td>\n",
       "      <td>31.944960</td>\n",
       "      <td>NaN</td>\n",
       "      <td>No</td>\n",
       "      <td>49.574949</td>\n",
       "      <td>118.28022162236736</td>\n",
       "      <td>Low_spent_Large_value_payments</td>\n",
       "      <td>284.62916249607184</td>\n",
       "      <td>Good</td>\n",
       "    </tr>\n",
       "    <tr>\n",
       "      <th>2</th>\n",
       "      <td>0x1604</td>\n",
       "      <td>CUS_0xd40</td>\n",
       "      <td>March</td>\n",
       "      <td>Aaron Maashoh</td>\n",
       "      <td>-500</td>\n",
       "      <td>821-00-0265</td>\n",
       "      <td>Scientist</td>\n",
       "      <td>19114.12</td>\n",
       "      <td>NaN</td>\n",
       "      <td>3</td>\n",
       "      <td>4</td>\n",
       "      <td>3</td>\n",
       "      <td>4</td>\n",
       "      <td>Auto Loan, Credit-Builder Loan, Personal Loan,...</td>\n",
       "      <td>3</td>\n",
       "      <td>7</td>\n",
       "      <td>_</td>\n",
       "      <td>4.0</td>\n",
       "      <td>Good</td>\n",
       "      <td>809.98</td>\n",
       "      <td>28.609352</td>\n",
       "      <td>22 Years and 3 Months</td>\n",
       "      <td>No</td>\n",
       "      <td>49.574949</td>\n",
       "      <td>81.699521264648</td>\n",
       "      <td>Low_spent_Medium_value_payments</td>\n",
       "      <td>331.2098628537912</td>\n",
       "      <td>Good</td>\n",
       "    </tr>\n",
       "    <tr>\n",
       "      <th>3</th>\n",
       "      <td>0x1605</td>\n",
       "      <td>CUS_0xd40</td>\n",
       "      <td>April</td>\n",
       "      <td>Aaron Maashoh</td>\n",
       "      <td>23</td>\n",
       "      <td>821-00-0265</td>\n",
       "      <td>Scientist</td>\n",
       "      <td>19114.12</td>\n",
       "      <td>NaN</td>\n",
       "      <td>3</td>\n",
       "      <td>4</td>\n",
       "      <td>3</td>\n",
       "      <td>4</td>\n",
       "      <td>Auto Loan, Credit-Builder Loan, Personal Loan,...</td>\n",
       "      <td>5</td>\n",
       "      <td>4</td>\n",
       "      <td>6.27</td>\n",
       "      <td>4.0</td>\n",
       "      <td>Good</td>\n",
       "      <td>809.98</td>\n",
       "      <td>31.377862</td>\n",
       "      <td>22 Years and 4 Months</td>\n",
       "      <td>No</td>\n",
       "      <td>49.574949</td>\n",
       "      <td>199.4580743910713</td>\n",
       "      <td>Low_spent_Small_value_payments</td>\n",
       "      <td>223.45130972736786</td>\n",
       "      <td>Good</td>\n",
       "    </tr>\n",
       "    <tr>\n",
       "      <th>4</th>\n",
       "      <td>0x1606</td>\n",
       "      <td>CUS_0xd40</td>\n",
       "      <td>May</td>\n",
       "      <td>Aaron Maashoh</td>\n",
       "      <td>23</td>\n",
       "      <td>821-00-0265</td>\n",
       "      <td>Scientist</td>\n",
       "      <td>19114.12</td>\n",
       "      <td>1824.843333</td>\n",
       "      <td>3</td>\n",
       "      <td>4</td>\n",
       "      <td>3</td>\n",
       "      <td>4</td>\n",
       "      <td>Auto Loan, Credit-Builder Loan, Personal Loan,...</td>\n",
       "      <td>6</td>\n",
       "      <td>NaN</td>\n",
       "      <td>11.27</td>\n",
       "      <td>4.0</td>\n",
       "      <td>Good</td>\n",
       "      <td>809.98</td>\n",
       "      <td>24.797347</td>\n",
       "      <td>22 Years and 5 Months</td>\n",
       "      <td>No</td>\n",
       "      <td>49.574949</td>\n",
       "      <td>41.420153086217326</td>\n",
       "      <td>High_spent_Medium_value_payments</td>\n",
       "      <td>341.48923103222177</td>\n",
       "      <td>Good</td>\n",
       "    </tr>\n",
       "  </tbody>\n",
       "</table>\n",
       "</div>"
      ],
      "text/plain": [
       "       ID Customer_ID     Month           Name   Age          SSN Occupation  \\\n",
       "0  0x1602   CUS_0xd40   January  Aaron Maashoh    23  821-00-0265  Scientist   \n",
       "1  0x1603   CUS_0xd40  February  Aaron Maashoh    23  821-00-0265  Scientist   \n",
       "2  0x1604   CUS_0xd40     March  Aaron Maashoh  -500  821-00-0265  Scientist   \n",
       "3  0x1605   CUS_0xd40     April  Aaron Maashoh    23  821-00-0265  Scientist   \n",
       "4  0x1606   CUS_0xd40       May  Aaron Maashoh    23  821-00-0265  Scientist   \n",
       "\n",
       "  Annual_Income  Monthly_Inhand_Salary  Num_Bank_Accounts  Num_Credit_Card  \\\n",
       "0      19114.12            1824.843333                  3                4   \n",
       "1      19114.12                    NaN                  3                4   \n",
       "2      19114.12                    NaN                  3                4   \n",
       "3      19114.12                    NaN                  3                4   \n",
       "4      19114.12            1824.843333                  3                4   \n",
       "\n",
       "   Interest_Rate Num_of_Loan  \\\n",
       "0              3           4   \n",
       "1              3           4   \n",
       "2              3           4   \n",
       "3              3           4   \n",
       "4              3           4   \n",
       "\n",
       "                                        Type_of_Loan  Delay_from_due_date  \\\n",
       "0  Auto Loan, Credit-Builder Loan, Personal Loan,...                    3   \n",
       "1  Auto Loan, Credit-Builder Loan, Personal Loan,...                   -1   \n",
       "2  Auto Loan, Credit-Builder Loan, Personal Loan,...                    3   \n",
       "3  Auto Loan, Credit-Builder Loan, Personal Loan,...                    5   \n",
       "4  Auto Loan, Credit-Builder Loan, Personal Loan,...                    6   \n",
       "\n",
       "  Num_of_Delayed_Payment Changed_Credit_Limit  Num_Credit_Inquiries  \\\n",
       "0                      7                11.27                   4.0   \n",
       "1                    NaN                11.27                   4.0   \n",
       "2                      7                    _                   4.0   \n",
       "3                      4                 6.27                   4.0   \n",
       "4                    NaN                11.27                   4.0   \n",
       "\n",
       "  Credit_Mix Outstanding_Debt  Credit_Utilization_Ratio  \\\n",
       "0          _           809.98                 26.822620   \n",
       "1       Good           809.98                 31.944960   \n",
       "2       Good           809.98                 28.609352   \n",
       "3       Good           809.98                 31.377862   \n",
       "4       Good           809.98                 24.797347   \n",
       "\n",
       "      Credit_History_Age Payment_of_Min_Amount  Total_EMI_per_month  \\\n",
       "0  22 Years and 1 Months                    No            49.574949   \n",
       "1                    NaN                    No            49.574949   \n",
       "2  22 Years and 3 Months                    No            49.574949   \n",
       "3  22 Years and 4 Months                    No            49.574949   \n",
       "4  22 Years and 5 Months                    No            49.574949   \n",
       "\n",
       "  Amount_invested_monthly                 Payment_Behaviour  \\\n",
       "0       80.41529543900253   High_spent_Small_value_payments   \n",
       "1      118.28022162236736    Low_spent_Large_value_payments   \n",
       "2         81.699521264648   Low_spent_Medium_value_payments   \n",
       "3       199.4580743910713    Low_spent_Small_value_payments   \n",
       "4      41.420153086217326  High_spent_Medium_value_payments   \n",
       "\n",
       "      Monthly_Balance Credit_Score  \n",
       "0  312.49408867943663         Good  \n",
       "1  284.62916249607184         Good  \n",
       "2   331.2098628537912         Good  \n",
       "3  223.45130972736786         Good  \n",
       "4  341.48923103222177         Good  "
      ]
     },
     "execution_count": 6,
     "metadata": {},
     "output_type": "execute_result"
    }
   ],
   "source": [
    "df.head()"
   ]
  },
  {
   "cell_type": "code",
   "execution_count": 7,
   "metadata": {},
   "outputs": [
    {
     "data": {
      "text/plain": [
       "array(['23', '-500', '28_', ..., '4808_', '2263', '1342'], dtype=object)"
      ]
     },
     "execution_count": 7,
     "metadata": {},
     "output_type": "execute_result"
    }
   ],
   "source": [
    "df['Age'].unique() # i saw the whole unique values and there are alot of errors so we will drop this column"
   ]
  },
  {
   "cell_type": "code",
   "execution_count": 8,
   "metadata": {},
   "outputs": [
    {
     "data": {
      "text/plain": [
       "array(['19114.12', '34847.84', '34847.84_', ..., '20002.88', '39628.99',\n",
       "       '39628.99_'], dtype=object)"
      ]
     },
     "execution_count": 8,
     "metadata": {},
     "output_type": "execute_result"
    }
   ],
   "source": [
    "df['Annual_Income'].unique() #it appears some values has _ at the end of it so we will remove that then change it to float"
   ]
  },
  {
   "cell_type": "code",
   "execution_count": 9,
   "metadata": {},
   "outputs": [],
   "source": [
    "df['Annual_Income'] = df['Annual_Income'].str.replace(\"_\", '')\n",
    "df['Annual_Income'] = df['Annual_Income'].astype(float)"
   ]
  },
  {
   "cell_type": "code",
   "execution_count": 10,
   "metadata": {},
   "outputs": [],
   "source": [
    "mean_salary_by_customer = df.groupby('Customer_ID')['Monthly_Inhand_Salary'].transform('mean')\n",
    "df['Monthly_Inhand_Salary'] = df['Monthly_Inhand_Salary'].fillna(mean_salary_by_customer)\n",
    "# here we filled missing values with the mean of each customer"
   ]
  },
  {
   "cell_type": "code",
   "execution_count": 11,
   "metadata": {},
   "outputs": [],
   "source": [
    "df['Type_of_Loan'] = df.groupby('Credit_Score')['Type_of_Loan'].transform(lambda x: x.mode().iloc[0] if not x.mode().empty else None) \n",
    "# i filled the type of loan with the mode of each credit score"
   ]
  },
  {
   "cell_type": "code",
   "execution_count": 12,
   "metadata": {},
   "outputs": [
    {
     "data": {
      "text/plain": [
       "array(['January', 'February', 'March', 'April', 'May', 'June', 'July',\n",
       "       'August'], dtype=object)"
      ]
     },
     "execution_count": 12,
     "metadata": {},
     "output_type": "execute_result"
    }
   ],
   "source": [
    "df['Month'].unique() # no problem here"
   ]
  },
  {
   "cell_type": "code",
   "execution_count": 13,
   "metadata": {},
   "outputs": [
    {
     "data": {
      "text/plain": [
       "array(['4', '1', '3', '967', '-100', '0', '0_', '2', '3_', '2_', '7', '5',\n",
       "       '5_', '6', '8', '8_', '9', '9_', '4_', '7_', '1_', '1464', '6_',\n",
       "       '622', '352', '472', '1017', '945', '146', '563', '341', '444',\n",
       "       '720', '1485', '49', '737', '1106', '466', '728', '313', '843',\n",
       "       '597_', '617', '119', '663', '640', '92_', '1019', '501', '1302',\n",
       "       '39', '716', '848', '931', '1214', '186', '424', '1001', '1110',\n",
       "       '1152', '457', '1433', '1187', '52', '1480', '1047', '1035',\n",
       "       '1347_', '33', '193', '699', '329', '1451', '484', '132', '649',\n",
       "       '995', '545', '684', '1135', '1094', '1204', '654', '58', '348',\n",
       "       '614', '1363', '323', '1406', '1348', '430', '153', '1461', '905',\n",
       "       '1312', '1424', '1154', '95', '1353', '1228', '819', '1006', '795',\n",
       "       '359', '1209', '590', '696', '1185_', '1465', '911', '1181', '70',\n",
       "       '816', '1369', '143', '1416', '455', '55', '1096', '1474', '420',\n",
       "       '1131', '904', '89', '1259', '527', '1241', '449', '983', '418',\n",
       "       '319', '23', '238', '638', '138', '235_', '280', '1070', '1484',\n",
       "       '274', '494', '1459_', '404', '1354', '1495', '1391', '601',\n",
       "       '1313', '1319', '898', '231', '752', '174', '961', '1046', '834',\n",
       "       '284', '438', '288', '1463', '1151', '719', '198', '1015', '855',\n",
       "       '841', '392', '1444', '103', '1320_', '745', '172', '252', '630_',\n",
       "       '241', '31', '405', '1217', '1030', '1257', '137', '157', '164',\n",
       "       '1088', '1236', '777', '1048', '613', '330', '1439', '321', '661',\n",
       "       '952', '939', '562', '1202', '302', '943', '394', '955', '1318',\n",
       "       '936', '781', '100', '1329', '1365', '860', '217', '191', '32',\n",
       "       '282', '351', '1387', '757', '416', '833', '359_', '292', '1225_',\n",
       "       '1227', '639', '859', '243', '267', '510', '332', '996', '597',\n",
       "       '311', '492', '820', '336', '123', '540', '131_', '1311_', '1441',\n",
       "       '895', '891', '50', '940', '935', '596', '29', '1182', '1129_',\n",
       "       '1014', '251', '365', '291', '1447', '742', '1085', '148', '462',\n",
       "       '832', '881', '1225', '1412', '785_', '1127', '910', '538', '999',\n",
       "       '733', '101', '237', '87', '659', '633', '387', '447', '629',\n",
       "       '831', '1384', '773', '621', '1419', '289', '143_', '285', '1393',\n",
       "       '1131_', '27_', '1359', '1482', '1189', '1294', '201', '579',\n",
       "       '814', '141', '1320', '581', '1171_', '295', '290', '433', '679',\n",
       "       '1040', '1054', '1430', '1023', '1077', '1457', '1150', '701',\n",
       "       '1382', '889', '437', '372', '1222', '126', '1159', '868', '19',\n",
       "       '1297', '227_', '190', '809', '1216', '1074', '571', '520', '1274',\n",
       "       '1340', '991', '316', '697', '926', '873', '1002', '378_', '65',\n",
       "       '875', '867', '548', '652', '1372', '606', '1036', '1300', '17',\n",
       "       '1178', '802', '1219_', '1271', '1137', '1496', '439', '196',\n",
       "       '636', '192', '228', '1053', '229', '753', '1296', '1371', '254',\n",
       "       '863', '464', '515', '838', '1160', '1289', '1298', '799', '182',\n",
       "       '574', '527_', '242', '415', '869', '958', '54', '1265', '656',\n",
       "       '275', '778', '208', '147', '350', '507', '463', '497', '1129',\n",
       "       '927', '653', '662', '529', '635', '1027_', '897', '1039', '227',\n",
       "       '1345', '924', '696_', '1279', '546', '1112', '1210', '526', '300',\n",
       "       '1103', '504', '136', '1400', '78', '686', '1091', '344', '215',\n",
       "       '84', '628', '1470', '968', '1478', '83', '1196', '1307', '1132_',\n",
       "       '1008', '917', '657', '56', '18', '41', '801', '978', '216', '349',\n",
       "       '966'], dtype=object)"
      ]
     },
     "execution_count": 13,
     "metadata": {},
     "output_type": "execute_result"
    }
   ],
   "source": [
    "df['Num_of_Loan'].unique() # we see there are alot of unreasonable numbers in this column so we will drop the column"
   ]
  },
  {
   "cell_type": "code",
   "execution_count": 14,
   "metadata": {},
   "outputs": [
    {
     "data": {
      "text/plain": [
       "array([ 3, -1,  5,  6,  8,  7, 13, 10,  0,  4,  9,  1, 12, 11, 30, 31, 34,\n",
       "       27, 14,  2, -2, 16, 17, 15, 23, 22, 21, 18, 19, 52, 51, 48, 53, 26,\n",
       "       43, 28, 25, 20, 47, 46, 49, 24, 61, 29, 50, 58, 45, 59, 55, 56, 57,\n",
       "       54, 62, 65, 64, 67, 36, 41, 33, 32, 39, 44, 42, 60, 35, 38, -3, 63,\n",
       "       40, 37, -5, -4, 66], dtype=int64)"
      ]
     },
     "execution_count": 14,
     "metadata": {},
     "output_type": "execute_result"
    }
   ],
   "source": [
    "df['Delay_from_due_date'].unique() # no problem here"
   ]
  },
  {
   "cell_type": "code",
   "execution_count": 15,
   "metadata": {},
   "outputs": [
    {
     "data": {
      "text/plain": [
       "array(['7', nan, '4', '8_', '6', '1', '-1', '3_', '0', '8', '5', '3', '9',\n",
       "       '12', '15', '17', '10', '2', '2_', '11', '14', '20', '22', '13',\n",
       "       '13_', '14_', '16', '12_', '18', '19', '23', '24', '21', '3318',\n",
       "       '3083', '22_', '1338', '4_', '26', '11_', '3104', '21_', '25',\n",
       "       '10_', '183_', '9_', '1106', '834', '19_', '24_', '17_', '23_',\n",
       "       '2672', '20_', '2008', '-3', '538', '6_', '1_', '16_', '27', '-2',\n",
       "       '3478', '2420', '15_', '707', '708', '26_', '18_', '3815', '28',\n",
       "       '5_', '1867', '2250', '1463', '25_', '7_', '4126', '2882', '1941',\n",
       "       '2655', '2628', '132', '3069', '306', '0_', '3539', '3684', '1823',\n",
       "       '4128', '1946', '827', '2297', '2566', '904', '182', '929', '3568',\n",
       "       '2503', '1552', '2812', '1697', '3764', '851', '3905', '923', '88',\n",
       "       '1668', '3253', '808', '2689', '3858', '642', '3457', '1402',\n",
       "       '1732', '3154', '847', '3037', '2204', '3103', '1063', '2056',\n",
       "       '1282', '1841', '2569_', '211', '793', '3484', '411', '3491',\n",
       "       '2072', '3050', '1049', '2162', '3402', '2753', '27_', '1718',\n",
       "       '1014', '3260', '3855', '84', '2311', '3251', '1832', '4069',\n",
       "       '3010', '733', '4241', '166', '2461', '1749', '3200', '663_',\n",
       "       '2185', '4161', '3009', '359', '2015', '1523', '594', '1079',\n",
       "       '1199', '186', '1015', '1989', '281', '559', '2165', '1509',\n",
       "       '3545', '779', '192', '4311', '-2_', '2323', '1471', '1538',\n",
       "       '3529', '439', '3456', '3040', '2697', '3179', '1332', '3175',\n",
       "       '3112', '829', '4022', '3870', '4023', '531', '1511', '3092',\n",
       "       '3191', '2400', '3621', '3536', '544', '1864', '28_', '142',\n",
       "       '2300', '264', '72', '497', '398', '2222', '3960', '1473', '3043',\n",
       "       '4216', '2903', '2658', '-1_', '4042', '1323_', '2184', '921',\n",
       "       '1328', '3404', '2438', '809', '47', '1996', '4164', '1370',\n",
       "       '1204', '2167', '4011', '2590', '2594', '2533', '1663', '1018',\n",
       "       '2919', '3458', '3316', '2589', '2801', '3355', '2529', '2488',\n",
       "       '4266', '1243', '739', '845', '4107', '1884', '337', '2660', '290',\n",
       "       '674', '2450', '3738', '1792', '2823', '2570', '775', '960', '482',\n",
       "       '1706', '2493', '3623', '3031', '2794_', '2219_', '758_', '1849',\n",
       "       '3559', '4096', '3726', '1953', '2657', '4043', '2938', '4384',\n",
       "       '1647', '2694', '3533', '519', '2677', '2413', '-3_', '4139',\n",
       "       '2609', '4326', '4211', '823', '3011', '1608', '2860', '4219',\n",
       "       '4047', '1531', '742', '52', '4024', '1673', '49', '2243', '1685',\n",
       "       '1869', '2587', '3489', '749', '1164', '2616', '848_', '4134',\n",
       "       '1530', '1502', '4075', '3845', '1060', '2573', '2128', '328',\n",
       "       '640', '2585', '2230', '1795', '1180', '1534', '3739', '3313',\n",
       "       '4191', '996', '372', '3340', '3177', '602', '787', '4135', '3878',\n",
       "       '4059', '1218', '4051', '1766', '1359', '3107', '585', '1263',\n",
       "       '2511', '709', '3632', '4077', '2943', '2793', '3245', '2317',\n",
       "       '1640', '2237_', '3819', '252', '3978', '1498', '1833', '2737',\n",
       "       '1192', '1481', '700', '271', '2286', '273', '1215', '3944',\n",
       "       '2070', '1478', '3749', '871', '2508', '2959', '130', '294',\n",
       "       '3097_', '3511', '415', '2196', '2138', '2149', '1874', '1553',\n",
       "       '3847', '3222', '1222', '2907', '3051', '98', '1598', '416',\n",
       "       '2314', '2955', '1691', '1450', '2021', '1636', '80', '3708',\n",
       "       '195', '320', '2945', '1911', '3416', '3796', '4159', '2255',\n",
       "       '938', '4397', '3776', '2148', '1994', '853', '1178', '1633',\n",
       "       '196', '3864', '714', '1687', '1034', '468', '1337', '2044',\n",
       "       '1541', '3661', '1211', '2645', '2007', '102', '1891', '3162',\n",
       "       '3142', '2566_', '2766', '3881', '2728', '2671', '1952', '3580',\n",
       "       '2705', '4251', '3840_', '972', '3119', '3502', '4185', '2954',\n",
       "       '683', '1614', '1572', '4302', '3447', '1852', '2131', '1900',\n",
       "       '1699', '133', '2018', '2127', '508', '210', '577', '1664', '2604',\n",
       "       '1411', '2351', '867', '1371', '2352', '1191', '905', '4053',\n",
       "       '3869', '933', '3660', '3300', '3629', '3208', '2142', '2521',\n",
       "       '450', '583', '876', '121', '3919', '2560', '2578', '2060', '813',\n",
       "       '1236', '1489', '4360', '1154', '2544', '4172', '2924', '426',\n",
       "       '4270', '2768', '3909', '3951', '2712', '2498', '3171', '1750',\n",
       "       '197', '2569', '265', '4293', '887', '2707', '2397', '4337',\n",
       "       '4249', '2751', '2950', '1859', '107', '2348', '2506', '2810',\n",
       "       '2873', '1301', '2262', '1890', '3078', '3865', '3268', '2777',\n",
       "       '3105', '1278', '3793', '2276', '2879', '4298', '2141', '223',\n",
       "       '2239', '846', '1862', '2756', '1181', '1184', '2617', '3972',\n",
       "       '2334', '3900', '2759', '4169', '2280', '2492', '2729', '3750',\n",
       "       '1825', '309', '2431', '3099', '2080', '2279', '2666', '3722',\n",
       "       '1976', '529', '1985', '3060', '4278', '3212', '46', '3148',\n",
       "       '3467', '4231', '3790', '473', '1536', '3955', '2324', '2381',\n",
       "       '1177', '371', '2896', '3880', '2991', '4319', '1061', '662',\n",
       "       '4144', '693', '2006', '3115', '2278_', '3751', '1861', '4262',\n",
       "       '2913', '2615', '3492', '800', '3766', '384', '3407', '1087',\n",
       "       '3329', '1086', '2216', '1087_', '2457', '3522', '3274', '3488',\n",
       "       '2854', '238', '351', '3706', '4280', '4095', '2926', '1329',\n",
       "       '3370', '283', '1392', '1743', '2429', '974', '3156', '1133',\n",
       "       '4388', '3243', '4282', '2523', '4281', '3415', '2001', '441',\n",
       "       '94', '3499', '969', '3368', '106', '1004', '2638', '3946', '2956',\n",
       "       '4324', '85', '4113', '819', '615', '1172', '2553', '1765', '3495',\n",
       "       '2820', '4239', '4340', '1295_', '2636', '4295', '1653', '1325',\n",
       "       '1879', '1096', '1735', '3584', '1073', '1975', '3827', '2552',\n",
       "       '3754', '2378', '532', '926', '2376', '3636', '3763', '778',\n",
       "       '2621', '804', '754', '2418', '4019', '3926', '3861_', '3574',\n",
       "       '175', '162', '2834', '3765', '2354', '523', '2274', '1606',\n",
       "       '1443', '1354', '2142_', '1422', '2278', '1045', '4106', '3155',\n",
       "       '666', '659', '3229', '1216', '2076', '1473_', '2384', '1954',\n",
       "       '719', '2534', '4002', '541', '2875', '4344', '2081', '3894',\n",
       "       '1256', '676', '4178', '399', '86', '1571', '4037', '1967', '4005',\n",
       "       '3216', '1150', '2591', '1801', '3721', '1775', '2260', '3707',\n",
       "       '4292', '1820', '145', '1480', '1850', '430', '217', '3920_',\n",
       "       '1389', '1579', '3391', '2385', '3336', '3392', '3688', '221',\n",
       "       '2047'], dtype=object)"
      ]
     },
     "execution_count": 15,
     "metadata": {},
     "output_type": "execute_result"
    }
   ],
   "source": [
    "df['Num_of_Delayed_Payment'].unique()"
   ]
  },
  {
   "cell_type": "code",
   "execution_count": 16,
   "metadata": {},
   "outputs": [],
   "source": [
    "df['Num_of_Delayed_Payment'] = df['Num_of_Delayed_Payment'].str.replace('_','')\n",
    "df['Num_of_Delayed_Payment'] = df['Num_of_Delayed_Payment'].astype(float)"
   ]
  },
  {
   "cell_type": "code",
   "execution_count": 17,
   "metadata": {},
   "outputs": [],
   "source": [
    "delayed_payment_by_customer =df.groupby('Customer_ID')['Num_of_Delayed_Payment'].transform('mean')\n",
    "df['Num_of_Delayed_Payment'] = df['Num_of_Delayed_Payment'].fillna(delayed_payment_by_customer)"
   ]
  },
  {
   "cell_type": "code",
   "execution_count": 18,
   "metadata": {},
   "outputs": [
    {
     "data": {
      "text/plain": [
       "array([   4.,    2.,    3., ..., 1361.,  310.,   74.])"
      ]
     },
     "execution_count": 18,
     "metadata": {},
     "output_type": "execute_result"
    }
   ],
   "source": [
    "df['Num_Credit_Inquiries'].unique()"
   ]
  },
  {
   "cell_type": "code",
   "execution_count": 19,
   "metadata": {},
   "outputs": [],
   "source": [
    "inquiries_by_customer =df.groupby('Customer_ID')['Num_Credit_Inquiries'].transform('mean')\n",
    "df['Num_Credit_Inquiries'] = df['Num_Credit_Inquiries'].fillna(inquiries_by_customer)"
   ]
  },
  {
   "cell_type": "code",
   "execution_count": 20,
   "metadata": {},
   "outputs": [],
   "source": [
    "df['Amount_invested_monthly'] = df['Amount_invested_monthly'].replace('__10000__',np.NaN)\n",
    "df['Amount_invested_monthly'] = df['Amount_invested_monthly'].astype(float)"
   ]
  },
  {
   "cell_type": "code",
   "execution_count": 21,
   "metadata": {},
   "outputs": [],
   "source": [
    "invested_by_customer =df.groupby('Customer_ID')['Amount_invested_monthly'].transform('mean')\n",
    "df['Amount_invested_monthly'] = df['Amount_invested_monthly'].fillna(invested_by_customer)"
   ]
  },
  {
   "cell_type": "code",
   "execution_count": 22,
   "metadata": {},
   "outputs": [],
   "source": [
    "df['Monthly_Balance'] = df['Monthly_Balance'].replace('__-333333333333333333333333333__',np.NaN)\n",
    "df['Monthly_Balance'] = df['Monthly_Balance'].astype(float)"
   ]
  },
  {
   "cell_type": "code",
   "execution_count": 23,
   "metadata": {},
   "outputs": [],
   "source": [
    "df['Monthly_Balance'] = df['Monthly_Balance'].fillna(df.groupby('Customer_ID')['Monthly_Balance'].transform('mean'))"
   ]
  },
  {
   "cell_type": "code",
   "execution_count": 24,
   "metadata": {},
   "outputs": [
    {
     "data": {
      "text/plain": [
       "array(['11.27', '_', '6.27', ..., '17.509999999999998', '25.16', '21.17'],\n",
       "      dtype=object)"
      ]
     },
     "execution_count": 24,
     "metadata": {},
     "output_type": "execute_result"
    }
   ],
   "source": [
    "df['Changed_Credit_Limit'].unique()"
   ]
  },
  {
   "cell_type": "code",
   "execution_count": 25,
   "metadata": {},
   "outputs": [],
   "source": [
    "df['Changed_Credit_Limit'] = df['Changed_Credit_Limit'].replace('_',np.NaN)\n",
    "df['Changed_Credit_Limit'] = df['Changed_Credit_Limit'].astype(float)"
   ]
  },
  {
   "cell_type": "code",
   "execution_count": 26,
   "metadata": {},
   "outputs": [],
   "source": [
    "df['Changed_Credit_Limit'] = df['Changed_Credit_Limit'].fillna(df.groupby('Customer_ID')['Changed_Credit_Limit'].transform('mean'))"
   ]
  },
  {
   "cell_type": "code",
   "execution_count": 27,
   "metadata": {},
   "outputs": [
    {
     "data": {
      "text/plain": [
       "array(['809.98', '605.03', '1303.01', ..., '3571.7_', '3571.7', '502.38'],\n",
       "      dtype=object)"
      ]
     },
     "execution_count": 27,
     "metadata": {},
     "output_type": "execute_result"
    }
   ],
   "source": [
    "df['Outstanding_Debt'].unique()"
   ]
  },
  {
   "cell_type": "code",
   "execution_count": 28,
   "metadata": {},
   "outputs": [],
   "source": [
    "df['Outstanding_Debt'] = df['Outstanding_Debt'].str.replace('_','')\n",
    "df['Outstanding_Debt'] = df['Outstanding_Debt'].astype(float)"
   ]
  },
  {
   "cell_type": "code",
   "execution_count": 29,
   "metadata": {},
   "outputs": [
    {
     "data": {
      "text/plain": [
       "array(['_', 'Good', 'Standard', 'Bad'], dtype=object)"
      ]
     },
     "execution_count": 29,
     "metadata": {},
     "output_type": "execute_result"
    }
   ],
   "source": [
    "df['Credit_Mix'].unique()\n"
   ]
  },
  {
   "cell_type": "code",
   "execution_count": 30,
   "metadata": {},
   "outputs": [],
   "source": [
    "df['Credit_Mix'] = df['Credit_Mix'].replace('_',np.NaN)\n",
    "df['Credit_Mix'] = df.groupby('Customer_ID')['Credit_Mix'].transform(lambda x: x.mode().iloc[0] if not x.mode().empty else None) \n"
   ]
  },
  {
   "cell_type": "code",
   "execution_count": 31,
   "metadata": {},
   "outputs": [
    {
     "data": {
      "text/plain": [
       "array(['Scientist', '_______', 'Teacher', 'Engineer', 'Entrepreneur',\n",
       "       'Developer', 'Lawyer', 'Media_Manager', 'Doctor', 'Journalist',\n",
       "       'Manager', 'Accountant', 'Musician', 'Mechanic', 'Writer',\n",
       "       'Architect'], dtype=object)"
      ]
     },
     "execution_count": 31,
     "metadata": {},
     "output_type": "execute_result"
    }
   ],
   "source": [
    "df['Occupation'].unique()\n"
   ]
  },
  {
   "cell_type": "code",
   "execution_count": 32,
   "metadata": {},
   "outputs": [],
   "source": [
    "df['Occupation'] = df['Occupation'].replace('_______',np.NaN)\n",
    "df['Occupation'] = df.groupby('Customer_ID')['Occupation'].transform(lambda x: x.mode().iloc[0] if not x.mode().empty else None) "
   ]
  },
  {
   "cell_type": "code",
   "execution_count": 33,
   "metadata": {},
   "outputs": [
    {
     "data": {
      "text/plain": [
       "array(['No', 'NM', 'Yes'], dtype=object)"
      ]
     },
     "execution_count": 33,
     "metadata": {},
     "output_type": "execute_result"
    }
   ],
   "source": [
    "df['Payment_of_Min_Amount'].unique()"
   ]
  },
  {
   "cell_type": "code",
   "execution_count": 34,
   "metadata": {},
   "outputs": [],
   "source": [
    "df['Credit_History_Age'] = df.groupby('Customer_ID')['Credit_History_Age'].transform(lambda x: x.mode().iloc[0] if not x.mode().empty else None) "
   ]
  },
  {
   "cell_type": "code",
   "execution_count": null,
   "metadata": {},
   "outputs": [],
   "source": []
  },
  {
   "cell_type": "code",
   "execution_count": 35,
   "metadata": {},
   "outputs": [
    {
     "data": {
      "text/plain": [
       "array(['High_spent_Small_value_payments',\n",
       "       'Low_spent_Large_value_payments',\n",
       "       'Low_spent_Medium_value_payments',\n",
       "       'Low_spent_Small_value_payments',\n",
       "       'High_spent_Medium_value_payments', '!@9#%8',\n",
       "       'High_spent_Large_value_payments'], dtype=object)"
      ]
     },
     "execution_count": 35,
     "metadata": {},
     "output_type": "execute_result"
    }
   ],
   "source": [
    "df['Payment_Behaviour'].unique()"
   ]
  },
  {
   "cell_type": "code",
   "execution_count": 36,
   "metadata": {},
   "outputs": [],
   "source": [
    "df['Payment_Behaviour'] = df['Payment_Behaviour'].replace('!@9#%8',np.NaN)\n",
    "df['Payment_Behaviour'] = df.groupby('Customer_ID')['Payment_Behaviour'].transform(lambda x: x.mode().iloc[0] if not x.mode().empty else None) "
   ]
  },
  {
   "cell_type": "code",
   "execution_count": 37,
   "metadata": {},
   "outputs": [],
   "source": [
    "df = df.drop(['Credit_History_Age','ID','Customer_ID','Name','Age','Num_of_Loan','SSN'],axis=1)"
   ]
  },
  {
   "cell_type": "code",
   "execution_count": 38,
   "metadata": {},
   "outputs": [
    {
     "name": "stdout",
     "output_type": "stream",
     "text": [
      "<class 'pandas.core.frame.DataFrame'>\n",
      "RangeIndex: 100000 entries, 0 to 99999\n",
      "Data columns (total 21 columns):\n",
      " #   Column                    Non-Null Count   Dtype  \n",
      "---  ------                    --------------   -----  \n",
      " 0   Month                     100000 non-null  object \n",
      " 1   Occupation                100000 non-null  object \n",
      " 2   Annual_Income             100000 non-null  float64\n",
      " 3   Monthly_Inhand_Salary     100000 non-null  float64\n",
      " 4   Num_Bank_Accounts         100000 non-null  int64  \n",
      " 5   Num_Credit_Card           100000 non-null  int64  \n",
      " 6   Interest_Rate             100000 non-null  int64  \n",
      " 7   Type_of_Loan              100000 non-null  object \n",
      " 8   Delay_from_due_date       100000 non-null  int64  \n",
      " 9   Num_of_Delayed_Payment    100000 non-null  float64\n",
      " 10  Changed_Credit_Limit      100000 non-null  float64\n",
      " 11  Num_Credit_Inquiries      100000 non-null  float64\n",
      " 12  Credit_Mix                100000 non-null  object \n",
      " 13  Outstanding_Debt          100000 non-null  float64\n",
      " 14  Credit_Utilization_Ratio  100000 non-null  float64\n",
      " 15  Payment_of_Min_Amount     100000 non-null  object \n",
      " 16  Total_EMI_per_month       100000 non-null  float64\n",
      " 17  Amount_invested_monthly   100000 non-null  float64\n",
      " 18  Payment_Behaviour         100000 non-null  object \n",
      " 19  Monthly_Balance           100000 non-null  float64\n",
      " 20  Credit_Score              100000 non-null  object \n",
      "dtypes: float64(10), int64(4), object(7)\n",
      "memory usage: 16.0+ MB\n"
     ]
    }
   ],
   "source": [
    "df.info()"
   ]
  },
  {
   "cell_type": "code",
   "execution_count": 39,
   "metadata": {},
   "outputs": [],
   "source": [
    "# we finished data cleaning now to change the string columns into incoded data\n"
   ]
  },
  {
   "cell_type": "code",
   "execution_count": 40,
   "metadata": {},
   "outputs": [],
   "source": [
    "x = df.iloc[:,:-1]\n",
    "y = df.iloc[:,-1]"
   ]
  },
  {
   "cell_type": "code",
   "execution_count": 41,
   "metadata": {},
   "outputs": [],
   "source": [
    "dummy = pd.get_dummies(x[['Month','Occupation','Type_of_Loan','Credit_Mix','Payment_of_Min_Amount','Payment_Behaviour']])"
   ]
  },
  {
   "cell_type": "code",
   "execution_count": 42,
   "metadata": {},
   "outputs": [],
   "source": [
    "x = x.drop(['Month','Occupation','Type_of_Loan','Credit_Mix','Payment_of_Min_Amount','Payment_Behaviour'],axis=1)"
   ]
  },
  {
   "cell_type": "code",
   "execution_count": 43,
   "metadata": {},
   "outputs": [],
   "source": [
    "x = pd.concat([x,dummy],axis=1)"
   ]
  },
  {
   "cell_type": "code",
   "execution_count": 44,
   "metadata": {},
   "outputs": [
    {
     "name": "stdout",
     "output_type": "stream",
     "text": [
      "<class 'pandas.core.frame.DataFrame'>\n",
      "RangeIndex: 100000 entries, 0 to 99999\n",
      "Data columns (total 51 columns):\n",
      " #   Column                                              Non-Null Count   Dtype  \n",
      "---  ------                                              --------------   -----  \n",
      " 0   Annual_Income                                       100000 non-null  float64\n",
      " 1   Monthly_Inhand_Salary                               100000 non-null  float64\n",
      " 2   Num_Bank_Accounts                                   100000 non-null  int64  \n",
      " 3   Num_Credit_Card                                     100000 non-null  int64  \n",
      " 4   Interest_Rate                                       100000 non-null  int64  \n",
      " 5   Delay_from_due_date                                 100000 non-null  int64  \n",
      " 6   Num_of_Delayed_Payment                              100000 non-null  float64\n",
      " 7   Changed_Credit_Limit                                100000 non-null  float64\n",
      " 8   Num_Credit_Inquiries                                100000 non-null  float64\n",
      " 9   Outstanding_Debt                                    100000 non-null  float64\n",
      " 10  Credit_Utilization_Ratio                            100000 non-null  float64\n",
      " 11  Total_EMI_per_month                                 100000 non-null  float64\n",
      " 12  Amount_invested_monthly                             100000 non-null  float64\n",
      " 13  Monthly_Balance                                     100000 non-null  float64\n",
      " 14  Month_April                                         100000 non-null  bool   \n",
      " 15  Month_August                                        100000 non-null  bool   \n",
      " 16  Month_February                                      100000 non-null  bool   \n",
      " 17  Month_January                                       100000 non-null  bool   \n",
      " 18  Month_July                                          100000 non-null  bool   \n",
      " 19  Month_June                                          100000 non-null  bool   \n",
      " 20  Month_March                                         100000 non-null  bool   \n",
      " 21  Month_May                                           100000 non-null  bool   \n",
      " 22  Occupation_Accountant                               100000 non-null  bool   \n",
      " 23  Occupation_Architect                                100000 non-null  bool   \n",
      " 24  Occupation_Developer                                100000 non-null  bool   \n",
      " 25  Occupation_Doctor                                   100000 non-null  bool   \n",
      " 26  Occupation_Engineer                                 100000 non-null  bool   \n",
      " 27  Occupation_Entrepreneur                             100000 non-null  bool   \n",
      " 28  Occupation_Journalist                               100000 non-null  bool   \n",
      " 29  Occupation_Lawyer                                   100000 non-null  bool   \n",
      " 30  Occupation_Manager                                  100000 non-null  bool   \n",
      " 31  Occupation_Mechanic                                 100000 non-null  bool   \n",
      " 32  Occupation_Media_Manager                            100000 non-null  bool   \n",
      " 33  Occupation_Musician                                 100000 non-null  bool   \n",
      " 34  Occupation_Scientist                                100000 non-null  bool   \n",
      " 35  Occupation_Teacher                                  100000 non-null  bool   \n",
      " 36  Occupation_Writer                                   100000 non-null  bool   \n",
      " 37  Type_of_Loan_Mortgage Loan                          100000 non-null  bool   \n",
      " 38  Type_of_Loan_Not Specified                          100000 non-null  bool   \n",
      " 39  Credit_Mix_Bad                                      100000 non-null  bool   \n",
      " 40  Credit_Mix_Good                                     100000 non-null  bool   \n",
      " 41  Credit_Mix_Standard                                 100000 non-null  bool   \n",
      " 42  Payment_of_Min_Amount_NM                            100000 non-null  bool   \n",
      " 43  Payment_of_Min_Amount_No                            100000 non-null  bool   \n",
      " 44  Payment_of_Min_Amount_Yes                           100000 non-null  bool   \n",
      " 45  Payment_Behaviour_High_spent_Large_value_payments   100000 non-null  bool   \n",
      " 46  Payment_Behaviour_High_spent_Medium_value_payments  100000 non-null  bool   \n",
      " 47  Payment_Behaviour_High_spent_Small_value_payments   100000 non-null  bool   \n",
      " 48  Payment_Behaviour_Low_spent_Large_value_payments    100000 non-null  bool   \n",
      " 49  Payment_Behaviour_Low_spent_Medium_value_payments   100000 non-null  bool   \n",
      " 50  Payment_Behaviour_Low_spent_Small_value_payments    100000 non-null  bool   \n",
      "dtypes: bool(37), float64(10), int64(4)\n",
      "memory usage: 14.2 MB\n"
     ]
    }
   ],
   "source": [
    "x.info()"
   ]
  },
  {
   "cell_type": "code",
   "execution_count": 48,
   "metadata": {},
   "outputs": [],
   "source": [
    "# now for the prediction\n",
    "from sklearn.model_selection import train_test_split\n",
    "from sklearn.model_selection import GridSearchCV "
   ]
  },
  {
   "cell_type": "code",
   "execution_count": 47,
   "metadata": {},
   "outputs": [],
   "source": [
    "x_train, x_test, y_train, y_test = train_test_split(x,y,test_size=0.2)"
   ]
  },
  {
   "cell_type": "code",
   "execution_count": null,
   "metadata": {},
   "outputs": [],
   "source": []
  },
  {
   "cell_type": "code",
   "execution_count": null,
   "metadata": {},
   "outputs": [],
   "source": []
  }
 ],
 "metadata": {
  "kernelspec": {
   "display_name": "Python 3",
   "language": "python",
   "name": "python3"
  },
  "language_info": {
   "codemirror_mode": {
    "name": "ipython",
    "version": 3
   },
   "file_extension": ".py",
   "mimetype": "text/x-python",
   "name": "python",
   "nbconvert_exporter": "python",
   "pygments_lexer": "ipython3",
   "version": "3.10.11"
  }
 },
 "nbformat": 4,
 "nbformat_minor": 2
}
